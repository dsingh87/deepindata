{
 "cells": [
  {
   "cell_type": "code",
   "execution_count": 1,
   "metadata": {},
   "outputs": [],
   "source": [
    "from bs4 import BeautifulSoup\n",
    "import pandas as pd\n",
    "import numpy as np\n",
    "import matplotlib.pyplot as plt\n",
    "import seaborn as sns\n",
    "import requests\n",
    "import re"
   ]
  },
  {
   "cell_type": "code",
   "execution_count": 2,
   "metadata": {},
   "outputs": [
    {
     "data": {
      "text/plain": [
       "'<!DOCTYPE html PUBLIC \"-//W3C//DTD XHTML 1.1//EN\" \"http://www.w3.org/TR/xhtml11/DTD/xhtml11.dtd\">\\n<html xml:lang=\"en\" xmlns=\"http://www.w3.org/1999/xhtml\">\\n <head>\\n  <title>\\n   J! Archive - Season list\\n  </title>\\n  <link href=\"http://www.j-archive.com/styles.css\" rel=\"styleSheet\" type=\"text/css\"/>\\n  <link href=\"http://www.j-archive.com/favicon.ico\" rel=\"shortcut icon\"/>\\n </head>\\n <body>\\n  <div id=\"navbar\">\\n   <span id=\"navbarlogo\">\\n    <a href=\"http://www.j-archive.com\">\\n     <img alt=\"J! Archive\" height=\"22\" src=\"http://www.j-archive.com/j-a.gif\" width=\"100\"/>\\n    </a>\\n   </span>\\n   <span id=\"navbartext\">\\n    <a href=\"http://www.j-archive.com/showseason.php?season=35\">\\n     [current season]\\n    </a>\\n    <a href=\"http://www.j-archive.com/showseason.php?season=34\">\\n     [last season]\\n    </a>\\n    <a href=\"http://www.j-archive.com/listseasons.php\">\\n     [all seasons]\\n    </a>\\n    <a href=\"http://www.j-archive.com/listprizes.php\">\\n     [prizes]\\n    </a>\\n    <a href=\"http://www.j-archive.com/wageringcalculator.php\">\\n     [wagering calculator]\\n    </a>\\n    <a href=\"http://www.j-archive.com/help.php\">\\n     [help]\\n    </a>\\n   </span>\\n   <form accept-charset=\"utf-8\" action=\"http://www.j-archive.com/search.php\" enctype=\"x-www-form-encoded\" id=\"navbarsearch\" method=\"get\">\\n    <fieldset class=\"noborder\">\\n     <input class=\"search\" id=\"search\" maxlength=\"256\" name=\"search\" type=\"text\" value=\"\"/>\\n     <input class=\"search_button\" name=\"submit\" type=\"submit\" value=\"Search\"/>\\n    </fieldset>\\n   </form>\\n  </div>\\n  <div id=\"content\">\\n   <table>\\n    <tr>\\n     <td>\\n      <a href=\"showseason.php?season=35\">\\n       Season 35\\n      </a>\\n     </td>\\n     <td class=\"left_padded\">\\n      2018-09-10 to 2019-07-26\\n     </td>\\n     <td align=\"right\" class=\"left_padded\">\\n      (191 games archived)\\n     </td>\\n     <td align=\"right\" class=\"left_padded\">\\n     </td>\\n    </tr>\\n    <tr>\\n     <td>\\n      <a href=\"showseason.php?season=34\">\\n       Season 34\\n      </a>\\n     </td>\\n     <td class=\"left_padded\">\\n      2017-09-11 to 2018-07-27\\n     </td>\\n     <td align=\"right\" class=\"left_padded\">\\n      (230 games archived)\\n     </td>\\n     <td align=\"right\" class=\"left_padded\">\\n     </td>\\n    </tr>\\n    <tr>\\n     <td>\\n      <a href=\"showseason.php?season=33\">\\n       Season 33\\n      </a>\\n     </td>\\n     <td class=\"left_padded\">\\n      2016-09-12 to 2017-07-28\\n     </td>\\n     <td align=\"right\" class=\"left_padded\">\\n      (230 games archived)\\n     </td>\\n     <td align=\"right\" class=\"left_padded\">\\n     </td>\\n    </tr>\\n    <tr>\\n     <td>\\n      <a href=\"showseason.php?season=32\">\\n       Season 32\\n      </a>\\n     </td>\\n     <td class=\"left_padded\">\\n      2015-09-14 to 2016-07-29\\n     </td>\\n     <td align=\"right\" class=\"left_padded\">\\n      (230 games archived)\\n     </td>\\n     <td align=\"right\" class=\"left_padded\">\\n     </td>\\n    </tr>\\n    <tr>\\n     <td>\\n      <a href=\"showseason.php?season=31\">\\n       Season 31\\n      </a>\\n     </td>\\n     <td class=\"left_padded\">\\n      2014-09-15 to 2015-07-31\\n     </td>\\n     <td align=\"right\" class=\"left_padded\">\\n      (230 games archived)\\n     </td>\\n     <td align=\"right\" class=\"left_padded\">\\n     </td>\\n    </tr>\\n    <tr>\\n     <td>\\n      <a href=\"showseason.php?season=30\">\\n       Season 30\\n      </a>\\n     </td>\\n     <td class=\"left_padded\">\\n      2013-09-16 to 2014-08-01\\n     </td>\\n     <td align=\"right\" class=\"left_padded\">\\n      (230 games archived)\\n     </td>\\n     <td align=\"right\" class=\"left_padded\">\\n     </td>\\n    </tr>\\n    <tr>\\n     <td>\\n      <a href=\"showseason.php?season=29\">\\n       Season 29\\n      </a>\\n     </td>\\n     <td class=\"left_padded\">\\n      2012-09-17 to 2013-08-02\\n     </td>\\n     <td align=\"right\" class=\"left_padded\">\\n      (230 games archived)\\n     </td>\\n     <td align=\"right\" class=\"left_padded\">\\n     </td>\\n    </tr>\\n    <tr>\\n     <td>\\n      <a href=\"showseason.php?season=28\">\\n       Season 28\\n      </a>\\n     </td>\\n     <td class=\"left_padded\">\\n      2011-09-19 to 2012-08-03\\n     </td>\\n     <td align=\"right\" class=\"left_padded\">\\n      (230 games archived)\\n     </td>\\n     <td align=\"right\" class=\"left_padded\">\\n     </td>\\n    </tr>\\n    <tr>\\n     <td>\\n      <a href=\"showseason.php?season=27\">\\n       Season 27\\n      </a>\\n     </td>\\n     <td class=\"left_padded\">\\n      2010-09-13 to 2011-07-29\\n     </td>\\n     <td align=\"right\" class=\"left_padded\">\\n      (230 games archived)\\n     </td>\\n     <td align=\"right\" class=\"left_padded\">\\n     </td>\\n    </tr>\\n    <tr>\\n     <td>\\n      <a href=\"showseason.php?season=26\">\\n       Season 26\\n      </a>\\n     </td>\\n     <td class=\"left_padded\">\\n      2009-09-14 to 2010-07-30\\n     </td>\\n     <td align=\"right\" class=\"left_padded\">\\n      (230 games archived)\\n     </td>\\n     <td align=\"right\" class=\"left_padded\">\\n     </td>\\n    </tr>\\n    <tr>\\n     <td>\\n      <a href=\"showseason.php?season=25\">\\n       Season 25\\n      </a>\\n     </td>\\n     <td class=\"left_padded\">\\n      2008-09-08 to 2009-07-24\\n     </td>\\n     <td align=\"right\" class=\"left_padded\">\\n      (230 games archived)\\n     </td>\\n     <td align=\"right\" class=\"left_padded\">\\n     </td>\\n    </tr>\\n    <tr>\\n     <td>\\n      <a href=\"showseason.php?season=24\">\\n       Season 24\\n      </a>\\n     </td>\\n     <td class=\"left_padded\">\\n      2007-09-10 to 2008-07-25\\n     </td>\\n     <td align=\"right\" class=\"left_padded\">\\n      (230 games archived)\\n     </td>\\n     <td align=\"right\" class=\"left_padded\">\\n     </td>\\n    </tr>\\n    <tr>\\n     <td>\\n      <a href=\"showseason.php?season=23\">\\n       Season 23\\n      </a>\\n     </td>\\n     <td class=\"left_padded\">\\n      2006-09-11 to 2007-07-27\\n     </td>\\n     <td align=\"right\" class=\"left_padded\">\\n      (230 games archived)\\n     </td>\\n     <td align=\"right\" class=\"left_padded\">\\n     </td>\\n    </tr>\\n    <tr>\\n     <td>\\n      <a href=\"showseason.php?season=22\">\\n       Season 22\\n      </a>\\n     </td>\\n     <td class=\"left_padded\">\\n      2005-09-12 to 2006-07-28\\n     </td>\\n     <td align=\"right\" class=\"left_padded\">\\n      (230 games archived)\\n     </td>\\n     <td align=\"right\" class=\"left_padded\">\\n     </td>\\n    </tr>\\n    <tr>\\n     <td>\\n      <a href=\"showseason.php?season=21\">\\n       Season 21\\n      </a>\\n     </td>\\n     <td class=\"left_padded\">\\n      2004-09-06 to 2005-07-22\\n     </td>\\n     <td align=\"right\" class=\"left_padded\">\\n      (230 games archived)\\n     </td>\\n     <td align=\"right\" class=\"left_padded\">\\n     </td>\\n    </tr>\\n    <tr>\\n     <td>\\n      <a href=\"showseason.php?season=20\">\\n       Season 20\\n      </a>\\n     </td>\\n     <td class=\"left_padded\">\\n      2003-09-08 to 2004-07-23\\n     </td>\\n     <td align=\"right\" class=\"left_padded\">\\n      (230 games archived)\\n     </td>\\n     <td align=\"right\" class=\"left_padded\">\\n     </td>\\n    </tr>\\n    <tr>\\n     <td>\\n      <a href=\"showseason.php?season=19\">\\n       Season 19\\n      </a>\\n     </td>\\n     <td class=\"left_padded\">\\n      2002-09-02 to 2003-07-18\\n     </td>\\n     <td align=\"right\" class=\"left_padded\">\\n      (228 games archived)\\n     </td>\\n     <td align=\"right\" class=\"left_padded\">\\n     </td>\\n    </tr>\\n    <tr>\\n     <td>\\n      <a href=\"showseason.php?season=18\">\\n       Season 18\\n      </a>\\n     </td>\\n     <td class=\"left_padded\">\\n      2001-09-03 to 2002-07-19\\n     </td>\\n     <td align=\"right\" class=\"left_padded\">\\n      (229 games archived)\\n     </td>\\n     <td align=\"right\" class=\"left_padded\">\\n     </td>\\n    </tr>\\n    <tr>\\n     <td>\\n      <a href=\"showseason.php?season=17\">\\n       Season 17\\n      </a>\\n     </td>\\n     <td class=\"left_padded\">\\n      2000-09-04 to 2001-07-20\\n     </td>\\n     <td align=\"right\" class=\"left_padded\">\\n      (230 games archived)\\n     </td>\\n     <td align=\"right\" class=\"left_padded\">\\n     </td>\\n    </tr>\\n    <tr>\\n     <td>\\n      <a href=\"showseason.php?season=16\">\\n       Season 16\\n      </a>\\n     </td>\\n     <td class=\"left_padded\">\\n      1999-09-06 to 2000-07-21\\n     </td>\\n     <td align=\"right\" class=\"left_padded\">\\n      (230 games archived)\\n     </td>\\n     <td align=\"right\" class=\"left_padded\">\\n     </td>\\n    </tr>\\n    <tr>\\n     <td>\\n      <a href=\"showseason.php?season=15\">\\n       Season 15\\n      </a>\\n     </td>\\n     <td class=\"left_padded\">\\n      1998-09-07 to 1999-07-23\\n     </td>\\n     <td align=\"right\" class=\"left_padded\">\\n      (228 games archived)\\n     </td>\\n     <td align=\"right\" class=\"left_padded\">\\n     </td>\\n    </tr>\\n    <tr>\\n     <td>\\n      <a href=\"showseason.php?season=14\">\\n       Season 14\\n      </a>\\n     </td>\\n     <td class=\"left_padded\">\\n      1997-09-01 to 1998-07-17\\n     </td>\\n     <td align=\"right\" class=\"left_padded\">\\n      (229 games archived)\\n     </td>\\n     <td align=\"right\" class=\"left_padded\">\\n     </td>\\n    </tr>\\n    <tr>\\n     <td>\\n      <a href=\"showseason.php?season=13\">\\n       Season 13\\n      </a>\\n     </td>\\n     <td class=\"left_padded\">\\n      1996-09-02 to 1997-07-18\\n     </td>\\n     <td align=\"right\" class=\"left_padded\">\\n      (208 games archived)\\n     </td>\\n     <td align=\"right\" class=\"left_padded\">\\n     </td>\\n    </tr>\\n    <tr>\\n     <td>\\n      <a href=\"showseason.php?season=12\">\\n       Season 12\\n      </a>\\n     </td>\\n     <td class=\"left_padded\">\\n      1995-09-04 to 1996-07-19\\n     </td>\\n     <td align=\"right\" class=\"left_padded\">\\n      (105 games archived)\\n     </td>\\n     <td align=\"right\" class=\"left_padded\">\\n     </td>\\n    </tr>\\n    <tr>\\n     <td>\\n      <a href=\"showseason.php?season=11\">\\n       Season 11\\n      </a>\\n     </td>\\n     <td class=\"left_padded\">\\n      1994-09-05 to 1995-07-21\\n     </td>\\n     <td align=\"right\" class=\"left_padded\">\\n      (51 games archived)\\n     </td>\\n     <td align=\"right\" class=\"left_padded\">\\n     </td>\\n    </tr>\\n    <tr>\\n     <td>\\n      <a href=\"showseason.php?season=10\">\\n       Season 10\\n      </a>\\n     </td>\\n     <td class=\"left_padded\">\\n      1993-09-06 to 1994-07-22\\n     </td>\\n     <td align=\"right\" class=\"left_padded\">\\n      (54 games archived)\\n     </td>\\n     <td align=\"right\" class=\"left_padded\">\\n     </td>\\n    </tr>\\n    <tr>\\n     <td>\\n      <a href=\"showseason.php?season=9\">\\n       Season 9\\n      </a>\\n     </td>\\n     <td class=\"left_padded\">\\n      1992-09-07 to 1993-07-23\\n     </td>\\n     <td align=\"right\" class=\"left_padded\">\\n      (76 games archived)\\n     </td>\\n     <td align=\"right\" class=\"left_padded\">\\n     </td>\\n    </tr>\\n    <tr>\\n     <td>\\n      <a href=\"showseason.php?season=8\">\\n       Season 8\\n      </a>\\n     </td>\\n     <td class=\"left_padded\">\\n      1991-09-02 to 1992-07-17\\n     </td>\\n     <td align=\"right\" class=\"left_padded\">\\n      (70 games archived)\\n     </td>\\n     <td align=\"right\" class=\"left_padded\">\\n     </td>\\n    </tr>\\n    <tr>\\n     <td>\\n      <a href=\"showseason.php?season=7\">\\n       Season 7\\n      </a>\\n     </td>\\n     <td class=\"left_padded\">\\n      1990-09-03 to 1991-07-19\\n     </td>\\n     <td align=\"right\" class=\"left_padded\">\\n      (60 games archived)\\n     </td>\\n     <td align=\"right\" class=\"left_padded\">\\n     </td>\\n    </tr>\\n    <tr>\\n     <td>\\n      <a href=\"showseason.php?season=superjeopardy\">\\n       <i>\\n        Super Jeopardy!\\n       </i>\\n      </a>\\n     </td>\\n     <td class=\"left_padded\">\\n      1990-06-16 to 1990-09-08\\n     </td>\\n     <td align=\"right\" class=\"left_padded\">\\n      (13 games archived)\\n     </td>\\n    </tr>\\n    <tr>\\n     <td>\\n      <a href=\"showseason.php?season=6\">\\n       Season 6\\n      </a>\\n     </td>\\n     <td class=\"left_padded\">\\n      1989-09-04 to 1990-07-20\\n     </td>\\n     <td align=\"right\" class=\"left_padded\">\\n      (153 games archived)\\n     </td>\\n     <td align=\"right\" class=\"left_padded\">\\n     </td>\\n    </tr>\\n    <tr>\\n     <td>\\n      <a href=\"showseason.php?season=5\">\\n       Season 5\\n      </a>\\n     </td>\\n     <td class=\"left_padded\">\\n      1988-09-05 to 1989-07-21\\n     </td>\\n     <td align=\"right\" class=\"left_padded\">\\n      (133 games archived)\\n     </td>\\n     <td align=\"right\" class=\"left_padded\">\\n     </td>\\n    </tr>\\n    <tr>\\n     <td>\\n      <a href=\"showseason.php?season=4\">\\n       Season 4\\n      </a>\\n     </td>\\n     <td class=\"left_padded\">\\n      1987-09-07 to 1988-07-22\\n     </td>\\n     <td align=\"right\" class=\"left_padded\">\\n      (150 games archived)\\n     </td>\\n     <td align=\"right\" class=\"left_padded\">\\n     </td>\\n    </tr>\\n    <tr>\\n     <td>\\n      <a href=\"showseason.php?season=3\">\\n       Season 3\\n      </a>\\n     </td>\\n     <td class=\"left_padded\">\\n      1986-09-08 to 1987-07-24\\n     </td>\\n     <td align=\"right\" class=\"left_padded\">\\n      (116 games archived)\\n     </td>\\n     <td align=\"right\" class=\"left_padded\">\\n     </td>\\n    </tr>\\n    <tr>\\n     <td>\\n      <a href=\"showseason.php?season=2\">\\n       Season 2\\n      </a>\\n     </td>\\n     <td class=\"left_padded\">\\n      1985-09-09 to 1986-06-06\\n     </td>\\n     <td align=\"right\" class=\"left_padded\">\\n      (57 games archived)\\n     </td>\\n     <td align=\"right\" class=\"left_padded\">\\n     </td>\\n    </tr>\\n    <tr>\\n     <td>\\n      <a href=\"showseason.php?season=1\">\\n       Season 1\\n      </a>\\n     </td>\\n     <td class=\"left_padded\">\\n      1984-09-10 to 1985-06-07\\n     </td>\\n     <td align=\"right\" class=\"left_padded\">\\n      (42 games archived)\\n     </td>\\n     <td align=\"right\" class=\"left_padded\">\\n     </td>\\n    </tr>\\n    <tr>\\n     <td>\\n      <a href=\"showseason.php?season=trebekpilots\">\\n       Trebek pilots\\n      </a>\\n     </td>\\n     <td class=\"left_padded\">\\n      1983-09-18 and 1984?\\n     </td>\\n     <td align=\"right\" class=\"left_padded\">\\n      (2 games archived)\\n     </td>\\n    </tr>\\n   </table>\\n   <!-- <p>For a complete archive of Season 20, see <a href=\"http://tdciago.110mb.com/jeoparchive/\" rel=\"external\">Ronnie O\\'Rourke\\'s JEOPARCHIVE!</a></p> -->\\n  </div>\\n  <div id=\"disclaimer\">\\n   The J! Archive is created by fans, for fans.  The\\n   <i>\\n    <a href=\"http://www.jeopardy.com\">\\n     Jeopardy!\\n    </a>\\n   </i>\\n   game show and all elements thereof, including but not limited to copyright and trademark thereto, are the property of Jeopardy Productions, Inc. and are protected under law.  This website is not affiliated with, sponsored by, or operated by Jeopardy Productions, Inc.  Join the discussion at\\n   <a href=\"http://jboard.tv\">\\n    JBoard.tv\\n   </a>\\n   .\\n  </div>\\n  <script src=\"http://www.google-analytics.com/urchin.js\" type=\"text/javascript\">\\n  </script>\\n  <script src=\"http://www.j-archive.com/scripts.js\" type=\"text/javascript\">\\n  </script>\\n </body>\\n</html>'"
      ]
     },
     "execution_count": 2,
     "metadata": {},
     "output_type": "execute_result"
    }
   ],
   "source": [
    "url = 'https://www.j-archive.com/listseasons.php'\n",
    "r = requests.get(url)\n",
    "soup = BeautifulSoup(r.content)\n",
    "soup.prettify()"
   ]
  },
  {
   "cell_type": "code",
   "execution_count": 3,
   "metadata": {
    "scrolled": true
   },
   "outputs": [
    {
     "data": {
      "text/plain": [
       "['showseason.php?season=35',\n",
       " 'showseason.php?season=34',\n",
       " 'showseason.php?season=33',\n",
       " 'showseason.php?season=32',\n",
       " 'showseason.php?season=31',\n",
       " 'showseason.php?season=30',\n",
       " 'showseason.php?season=29',\n",
       " 'showseason.php?season=28',\n",
       " 'showseason.php?season=27',\n",
       " 'showseason.php?season=26',\n",
       " 'showseason.php?season=25',\n",
       " 'showseason.php?season=24',\n",
       " 'showseason.php?season=23',\n",
       " 'showseason.php?season=22',\n",
       " 'showseason.php?season=21',\n",
       " 'showseason.php?season=20',\n",
       " 'showseason.php?season=19',\n",
       " 'showseason.php?season=18',\n",
       " 'showseason.php?season=17',\n",
       " 'showseason.php?season=16',\n",
       " 'showseason.php?season=15',\n",
       " 'showseason.php?season=14',\n",
       " 'showseason.php?season=13',\n",
       " 'showseason.php?season=12',\n",
       " 'showseason.php?season=11',\n",
       " 'showseason.php?season=10',\n",
       " 'showseason.php?season=9',\n",
       " 'showseason.php?season=8',\n",
       " 'showseason.php?season=7',\n",
       " 'showseason.php?season=superjeopardy',\n",
       " 'showseason.php?season=6',\n",
       " 'showseason.php?season=5',\n",
       " 'showseason.php?season=4',\n",
       " 'showseason.php?season=3',\n",
       " 'showseason.php?season=2',\n",
       " 'showseason.php?season=1',\n",
       " 'showseason.php?season=trebekpilots']"
      ]
     },
     "execution_count": 3,
     "metadata": {},
     "output_type": "execute_result"
    }
   ],
   "source": [
    "# Get links for seasons\n",
    "season_links = []\n",
    "for link in soup.find_all('a'):\n",
    "    if 'http' not in link.get('href'):\n",
    "        season_links.append(link.get('href'))\n",
    "season_links"
   ]
  },
  {
   "cell_type": "code",
   "execution_count": 4,
   "metadata": {
    "scrolled": true
   },
   "outputs": [],
   "source": [
    "relevant_seasons = []\n",
    "for i in season_links:\n",
    "    season_url = 'https://www.j-archive.com/' + i\n",
    "    r=requests.get(season_url)\n",
    "    soup = BeautifulSoup(r.content)\n",
    "    soup.prettify()\n",
    "    for contestants in soup.find_all('td', {'valign': 'top'}):\n",
    "        if 'Ken Jennings' in contestants.text or 'James Holzhauer' in contestants.text:\n",
    "            relevant_seasons.append(i)\n",
    "relevant_seasons = set(relevant_seasons)"
   ]
  },
  {
   "cell_type": "code",
   "execution_count": 5,
   "metadata": {},
   "outputs": [],
   "source": [
    "relevant_seasons\n",
    "# Just manually input the relevant seasons (not including seasons w/ special tournaments)\n",
    "relevant_seasons = ['showseason.php?season=20', 'showseason.php?season=21','showseason.php?season=35']"
   ]
  },
  {
   "cell_type": "code",
   "execution_count": 6,
   "metadata": {
    "scrolled": true
   },
   "outputs": [],
   "source": [
    "# Get links for relevant episodes\n",
    "relevant_episodes = []\n",
    "for i in relevant_seasons:\n",
    "    contestant_index = []\n",
    "    season_url = 'https://www.j-archive.com/' + i\n",
    "    r=requests.get(season_url)\n",
    "    soup = BeautifulSoup(r.content)\n",
    "    soup.prettify()\n",
    "    for num, td in enumerate(soup.find_all('td', {'valign': 'top'})):\n",
    "        if ('Ken Jennings game' in td.text) or ('James Holzhauer game' in td.text):\n",
    "            contestant_index.append(num)\n",
    "    link_index = [x - 2 for x in contestant_index]  \n",
    "    for num, contestants in enumerate(soup.find_all('td', {'valign': 'top'})):\n",
    "        if num in link_index:\n",
    "            relevant_episodes.append(contestants.find('a').get('href'))"
   ]
  },
  {
   "cell_type": "code",
   "execution_count": 7,
   "metadata": {
    "scrolled": true
   },
   "outputs": [],
   "source": [
    "# Get 3 contestants final scores and date for each game James / Ken are on\n",
    "episode_dict = {}\n",
    "for num, show_url in enumerate(relevant_episodes):\n",
    "    player_score_dict = {}\n",
    "    r=requests.get(show_url)\n",
    "    soup = BeautifulSoup(r.content)\n",
    "    contestant_names = []\n",
    "    for i in soup.find_all(class_ = 'score_player_nickname'):\n",
    "        contestant_names.append(i.text)\n",
    "    contestant_names = contestant_names[:3]\n",
    "    contestant_scores = []\n",
    "    try: \n",
    "        contestant_scores.append(soup.find('h3', text = 'Final scores:').find_next(class_='score_positive').text)\n",
    "        contestant_scores.append(soup.find('h3', text = 'Final scores:').find_next(class_='score_positive').find_next(class_='score_positive').text)\n",
    "        contestant_scores.append(soup.find('h3', text = 'Final scores:').find_next(class_='score_positive').find_next(class_='score_positive').find_next(class_='score_positive').text)\n",
    "    except:\n",
    "        pass\n",
    "    results_dict = dict(zip(contestant_names, contestant_scores))\n",
    "    episode_dict[soup.find('h1').text] = results_dict\n"
   ]
  },
  {
   "cell_type": "code",
   "execution_count": 9,
   "metadata": {
    "scrolled": true
   },
   "outputs": [
    {
     "data": {
      "text/plain": [
       "[['Ken', datetime.date(2004, 7, 23), 75000],\n",
       " ['Ken', datetime.date(2004, 7, 22), 52000],\n",
       " ['Ken', datetime.date(2004, 7, 21), 30000],\n",
       " ['Ken', datetime.date(2004, 7, 20), 29200],\n",
       " ['Ken', datetime.date(2004, 7, 19), 35000],\n",
       " ['Ken', datetime.date(2004, 7, 16), 50000],\n",
       " ['Ken', datetime.date(2004, 7, 15), 28000],\n",
       " ['Ken', datetime.date(2004, 7, 14), 17500],\n",
       " ['Ken', datetime.date(2004, 7, 13), 32000],\n",
       " ['Ken', datetime.date(2004, 7, 12), 52000],\n",
       " ['Ken', datetime.date(2004, 7, 9), 52000],\n",
       " ['Ken', datetime.date(2004, 7, 8), 40000],\n",
       " ['Ken', datetime.date(2004, 7, 7), 40000],\n",
       " ['Ken', datetime.date(2004, 7, 6), 14000],\n",
       " ['Ken', datetime.date(2004, 7, 5), 19600],\n",
       " ['Ken', datetime.date(2004, 7, 2), 17600],\n",
       " ['Ken', datetime.date(2004, 7, 1), 40000],\n",
       " ['Ken', datetime.date(2004, 6, 30), 35000],\n",
       " ['Ken', datetime.date(2004, 6, 29), 40000],\n",
       " ['Ken', datetime.date(2004, 6, 28), 21000],\n",
       " ['Ken', datetime.date(2004, 6, 25), 48801],\n",
       " ['Ken', datetime.date(2004, 6, 24), 40000],\n",
       " ['Ken', datetime.date(2004, 6, 23), 26000],\n",
       " ['Ken', datetime.date(2004, 6, 22), 15200],\n",
       " ['Ken', datetime.date(2004, 6, 21), 31601],\n",
       " ['Ken', datetime.date(2004, 6, 18), 30000],\n",
       " ['Ken', datetime.date(2004, 6, 17), 34000],\n",
       " ['Ken', datetime.date(2004, 6, 16), 35000],\n",
       " ['Ken', datetime.date(2004, 6, 15), 50000],\n",
       " ['Ken', datetime.date(2004, 6, 14), 25000],\n",
       " ['Ken', datetime.date(2004, 6, 11), 35158],\n",
       " ['Ken', datetime.date(2004, 6, 10), 50000],\n",
       " ['Ken', datetime.date(2004, 6, 9), 25000],\n",
       " ['Ken', datetime.date(2004, 6, 8), 29799],\n",
       " ['Ken', datetime.date(2004, 6, 7), 30000],\n",
       " ['Ken', datetime.date(2004, 6, 4), 37000],\n",
       " ['Ken', datetime.date(2004, 6, 3), 22000],\n",
       " ['Ken', datetime.date(2004, 6, 2), 37201],\n",
       " ['Ken', datetime.date(2004, 11, 30), 8799],\n",
       " ['Ken', datetime.date(2004, 11, 29), 29000],\n",
       " ['Ken', datetime.date(2004, 11, 26), 31600],\n",
       " ['Ken', datetime.date(2004, 11, 25), 50000],\n",
       " ['Ken', datetime.date(2004, 11, 24), 55099],\n",
       " ['Ken', datetime.date(2004, 11, 9), 30000],\n",
       " ['Ken', datetime.date(2004, 11, 8), 19200],\n",
       " ['Ken', datetime.date(2004, 11, 6), 33201],\n",
       " ['Ken', datetime.date(2004, 11, 5), 25600],\n",
       " ['Ken', datetime.date(2004, 11, 4), 50000],\n",
       " ['Ken', datetime.date(2004, 11, 3), 45099],\n",
       " ['Ken', datetime.date(2004, 11, 1), 26600],\n",
       " ['Ken', datetime.date(2004, 10, 29), 30000],\n",
       " ['Ken', datetime.date(2004, 10, 28), 30000],\n",
       " ['Ken', datetime.date(2004, 10, 27), 34001],\n",
       " ['Ken', datetime.date(2004, 10, 26), 25000],\n",
       " ['Ken', datetime.date(2004, 10, 25), 30000],\n",
       " ['Ken', datetime.date(2004, 10, 15), 40000],\n",
       " ['Ken', datetime.date(2004, 10, 14), 29900],\n",
       " ['Ken', datetime.date(2004, 10, 13), 28300],\n",
       " ['Ken', datetime.date(2004, 10, 12), 35000],\n",
       " ['Ken', datetime.date(2004, 10, 11), 35000],\n",
       " ['Ken', datetime.date(2004, 10, 8), 30000],\n",
       " ['Ken', datetime.date(2004, 10, 7), 40000],\n",
       " ['Ken', datetime.date(2004, 10, 6), 38400],\n",
       " ['Ken', datetime.date(2004, 10, 5), 35038],\n",
       " ['Ken', datetime.date(2004, 10, 4), 29601],\n",
       " ['Ken', datetime.date(2004, 9, 17), 50000],\n",
       " ['Ken', datetime.date(2004, 9, 16), 30000],\n",
       " ['Ken', datetime.date(2004, 9, 15), 37600],\n",
       " ['Ken', datetime.date(2004, 9, 14), 40000],\n",
       " ['Ken', datetime.date(2004, 9, 13), 45000],\n",
       " ['Ken', datetime.date(2004, 9, 10), 30000],\n",
       " ['Ken', datetime.date(2004, 9, 9), 21800],\n",
       " ['Ken', datetime.date(2004, 9, 8), 27200],\n",
       " ['Ken', datetime.date(2004, 9, 7), 21800],\n",
       " ['Ken', datetime.date(2004, 9, 6), 10001],\n",
       " ['James', datetime.date(2019, 6, 3), 24799],\n",
       " ['James', datetime.date(2019, 5, 31), 79633],\n",
       " ['James', datetime.date(2019, 5, 30), 58612],\n",
       " ['James', datetime.date(2019, 5, 29), 69033],\n",
       " ['James', datetime.date(2019, 5, 28), 59381],\n",
       " ['James', datetime.date(2019, 5, 27), 130022],\n",
       " ['James', datetime.date(2019, 5, 24), 74400],\n",
       " ['James', datetime.date(2019, 5, 23), 52108],\n",
       " ['James', datetime.date(2019, 5, 22), 71885],\n",
       " ['James', datetime.date(2019, 5, 21), 86905],\n",
       " ['James', datetime.date(2019, 5, 20), 89229],\n",
       " ['James', datetime.date(2019, 5, 3), 82381],\n",
       " ['James', datetime.date(2019, 5, 2), 80615],\n",
       " ['James', datetime.date(2019, 5, 1), 101682],\n",
       " ['James', datetime.date(2019, 4, 30), 96726],\n",
       " ['James', datetime.date(2019, 4, 29), 54017],\n",
       " ['James', datetime.date(2019, 4, 26), 49600],\n",
       " ['James', datetime.date(2019, 4, 25), 90812],\n",
       " ['James', datetime.date(2019, 4, 24), 73621],\n",
       " ['James', datetime.date(2019, 4, 23), 118816],\n",
       " ['James', datetime.date(2019, 4, 22), 90812],\n",
       " ['James', datetime.date(2019, 4, 19), 80006],\n",
       " ['James', datetime.date(2019, 4, 18), 74133],\n",
       " ['James', datetime.date(2019, 4, 17), 131127],\n",
       " ['James', datetime.date(2019, 4, 16), 106181],\n",
       " ['James', datetime.date(2019, 4, 15), 45444],\n",
       " ['James', datetime.date(2019, 4, 12), 89158],\n",
       " ['James', datetime.date(2019, 4, 11), 27190],\n",
       " ['James', datetime.date(2019, 4, 10), 54322],\n",
       " ['James', datetime.date(2019, 4, 9), 110914],\n",
       " ['James', datetime.date(2019, 4, 8), 50845],\n",
       " ['James', datetime.date(2019, 4, 5), 38926],\n",
       " ['James', datetime.date(2019, 4, 4), 43680]]"
      ]
     },
     "execution_count": 9,
     "metadata": {},
     "output_type": "execute_result"
    }
   ],
   "source": [
    "# Convert date text to proper date, create list of Ken / James, date, and how much oneyt ehy won\n",
    "from datetime import datetime\n",
    "\n",
    "list_records = []\n",
    "for k,v in episode_dict.items():\n",
    "    start = k.index(',')+2\n",
    "    start_date = k[start:]\n",
    "    start_date = datetime.strptime(start_date, '%B %d, %Y').date()\n",
    "    if 'Ken' in v:\n",
    "        record = ['Ken',start_date, int(re.sub('[$,]','',v['Ken']))]\n",
    "        list_records.append(record)\n",
    "    elif 'James' in v:\n",
    "        record = ['James',start_date, int(re.sub('[$,]','',v['James']))]\n",
    "        list_records.append(record)\n",
    "    else: \n",
    "        pass\n",
    "list_records\n"
   ]
  },
  {
   "cell_type": "code",
   "execution_count": 10,
   "metadata": {},
   "outputs": [],
   "source": [
    "df = pd.DataFrame(list_records)\n",
    "df.columns = ['contestant','show_dt','winnings']\n",
    "first_show = df.groupby('contestant').agg({'show_dt': ['min', 'max']})\n",
    "first_show.columns = ['show_min', 'show_max']\n",
    "df = df.merge(first_show, how='inner', on='contestant')\n",
    "ken_df = df[df['contestant'] == 'Ken'].sort_values('show_dt').reset_index()\n",
    "james_df = df[df['contestant'] == 'James'].sort_values('show_dt').reset_index()"
   ]
  },
  {
   "cell_type": "code",
   "execution_count": 77,
   "metadata": {},
   "outputs": [
    {
     "name": "stdout",
     "output_type": "stream",
     "text": [
      "James Jeopardy Stats:\n"
     ]
    },
    {
     "data": {
      "text/html": [
       "<div>\n",
       "<style scoped>\n",
       "    .dataframe tbody tr th:only-of-type {\n",
       "        vertical-align: middle;\n",
       "    }\n",
       "\n",
       "    .dataframe tbody tr th {\n",
       "        vertical-align: top;\n",
       "    }\n",
       "\n",
       "    .dataframe thead th {\n",
       "        text-align: right;\n",
       "    }\n",
       "</style>\n",
       "<table border=\"1\" class=\"dataframe\">\n",
       "  <thead>\n",
       "    <tr style=\"text-align: right;\">\n",
       "      <th></th>\n",
       "      <th>index</th>\n",
       "      <th>winnings</th>\n",
       "    </tr>\n",
       "  </thead>\n",
       "  <tbody>\n",
       "    <tr>\n",
       "      <th>count</th>\n",
       "      <td>33.00000</td>\n",
       "      <td>33.000000</td>\n",
       "    </tr>\n",
       "    <tr>\n",
       "      <th>mean</th>\n",
       "      <td>91.00000</td>\n",
       "      <td>75364.090909</td>\n",
       "    </tr>\n",
       "    <tr>\n",
       "      <th>std</th>\n",
       "      <td>9.66954</td>\n",
       "      <td>27305.851037</td>\n",
       "    </tr>\n",
       "    <tr>\n",
       "      <th>min</th>\n",
       "      <td>75.00000</td>\n",
       "      <td>24799.000000</td>\n",
       "    </tr>\n",
       "    <tr>\n",
       "      <th>25%</th>\n",
       "      <td>83.00000</td>\n",
       "      <td>54017.000000</td>\n",
       "    </tr>\n",
       "    <tr>\n",
       "      <th>50%</th>\n",
       "      <td>91.00000</td>\n",
       "      <td>74400.000000</td>\n",
       "    </tr>\n",
       "    <tr>\n",
       "      <th>75%</th>\n",
       "      <td>99.00000</td>\n",
       "      <td>90812.000000</td>\n",
       "    </tr>\n",
       "    <tr>\n",
       "      <th>max</th>\n",
       "      <td>107.00000</td>\n",
       "      <td>131127.000000</td>\n",
       "    </tr>\n",
       "  </tbody>\n",
       "</table>\n",
       "</div>"
      ],
      "text/plain": [
       "           index       winnings\n",
       "count   33.00000      33.000000\n",
       "mean    91.00000   75364.090909\n",
       "std      9.66954   27305.851037\n",
       "min     75.00000   24799.000000\n",
       "25%     83.00000   54017.000000\n",
       "50%     91.00000   74400.000000\n",
       "75%     99.00000   90812.000000\n",
       "max    107.00000  131127.000000"
      ]
     },
     "metadata": {},
     "output_type": "display_data"
    },
    {
     "name": "stdout",
     "output_type": "stream",
     "text": [
      "Ken Jeopardy Stats:\n"
     ]
    },
    {
     "data": {
      "text/html": [
       "<div>\n",
       "<style scoped>\n",
       "    .dataframe tbody tr th:only-of-type {\n",
       "        vertical-align: middle;\n",
       "    }\n",
       "\n",
       "    .dataframe tbody tr th {\n",
       "        vertical-align: top;\n",
       "    }\n",
       "\n",
       "    .dataframe thead th {\n",
       "        text-align: right;\n",
       "    }\n",
       "</style>\n",
       "<table border=\"1\" class=\"dataframe\">\n",
       "  <thead>\n",
       "    <tr style=\"text-align: right;\">\n",
       "      <th></th>\n",
       "      <th>index</th>\n",
       "      <th>winnings</th>\n",
       "    </tr>\n",
       "  </thead>\n",
       "  <tbody>\n",
       "    <tr>\n",
       "      <th>count</th>\n",
       "      <td>75.000000</td>\n",
       "      <td>75.000000</td>\n",
       "    </tr>\n",
       "    <tr>\n",
       "      <th>mean</th>\n",
       "      <td>37.000000</td>\n",
       "      <td>33726.653333</td>\n",
       "    </tr>\n",
       "    <tr>\n",
       "      <th>std</th>\n",
       "      <td>21.794495</td>\n",
       "      <td>11511.822207</td>\n",
       "    </tr>\n",
       "    <tr>\n",
       "      <th>min</th>\n",
       "      <td>0.000000</td>\n",
       "      <td>8799.000000</td>\n",
       "    </tr>\n",
       "    <tr>\n",
       "      <th>25%</th>\n",
       "      <td>18.500000</td>\n",
       "      <td>27600.000000</td>\n",
       "    </tr>\n",
       "    <tr>\n",
       "      <th>50%</th>\n",
       "      <td>37.000000</td>\n",
       "      <td>31601.000000</td>\n",
       "    </tr>\n",
       "    <tr>\n",
       "      <th>75%</th>\n",
       "      <td>55.500000</td>\n",
       "      <td>40000.000000</td>\n",
       "    </tr>\n",
       "    <tr>\n",
       "      <th>max</th>\n",
       "      <td>74.000000</td>\n",
       "      <td>75000.000000</td>\n",
       "    </tr>\n",
       "  </tbody>\n",
       "</table>\n",
       "</div>"
      ],
      "text/plain": [
       "           index      winnings\n",
       "count  75.000000     75.000000\n",
       "mean   37.000000  33726.653333\n",
       "std    21.794495  11511.822207\n",
       "min     0.000000   8799.000000\n",
       "25%    18.500000  27600.000000\n",
       "50%    37.000000  31601.000000\n",
       "75%    55.500000  40000.000000\n",
       "max    74.000000  75000.000000"
      ]
     },
     "metadata": {},
     "output_type": "display_data"
    }
   ],
   "source": [
    "print('James Jeopardy Stats:')\n",
    "display(james_df.describe())\n",
    "print('Ken Jeopardy Stats:')\n",
    "display(ken_df.describe())"
   ]
  },
  {
   "cell_type": "code",
   "execution_count": 12,
   "metadata": {},
   "outputs": [
    {
     "data": {
      "text/plain": [
       "2520700"
      ]
     },
     "execution_count": 12,
     "metadata": {},
     "output_type": "execute_result"
    }
   ],
   "source": [
    "# Ken won total of $2,520,700, check that data matches (don't include last game where he gets $ for second place)\n",
    "ken_winnings.iloc[-2]"
   ]
  },
  {
   "cell_type": "code",
   "execution_count": 17,
   "metadata": {},
   "outputs": [
    {
     "data": {
      "text/plain": [
       "58484"
      ]
     },
     "execution_count": 17,
     "metadata": {},
     "output_type": "execute_result"
    }
   ],
   "source": [
    "# James was short of Ken's record by $58,484, check that the difference in scores equals this (exclude last game)\n",
    "ken_winnings.iloc[-2] - james_winnings.iloc[-2]"
   ]
  },
  {
   "cell_type": "code",
   "execution_count": 58,
   "metadata": {},
   "outputs": [
    {
     "data": {
      "image/png": "[encoded data removed]",
      "text/plain": [
       "<Figure size 1080x720 with 1 Axes>"
      ]
     },
     "metadata": {},
     "output_type": "display_data"
    }
   ],
   "source": [
    "import matplotlib.ticker as ticker\n",
    "sns.set(style=\"darkgrid\")\n",
    "ken_winnings = np.cumsum(ken_df['winnings'])\n",
    "james_winnings = np.cumsum(james_df['winnings'])\n",
    "fig, ax = plt.subplots(figsize=(15,10))\n",
    "ax.plot(ken_winnings[:-1], c='b', label='Ken Jennings');\n",
    "plt.plot(james_winnings, c='r', label='James Holzhauer');\n",
    "plt.xlabel('# of Games')\n",
    "plt.ylabel('Cumulative Winnings')\n",
    "\n",
    "fmt = '${x:,.0f}'\n",
    "tick = ticker.StrMethodFormatter(fmt)\n",
    "ax.yaxis.set_major_formatter(tick) \n",
    "ax.axhline(ken_winnings.iloc[-2], ls='--')\n",
    "plt.xlim(0)\n",
    "plt.text(0,ken_winnings.iloc[-2], 'Ken Jennings Record: {ken_total}'.format(ken_total='${:,.0f}'.format(ken_winnings.iloc[-2])), ha='left', va='bottom', color='b',fontweight='semibold')\n",
    "plt.text(len(james_winnings)-1, ken_winnings.iloc[-2], '{james_total}'.format(james_total='${:,.0f}'.format(james_winnings.iloc[-2])), ha='left', va='top', color='r',fontweight='semibold')\n",
    "plt.legend();\n"
   ]
  },
  {
   "cell_type": "code",
   "execution_count": 61,
   "metadata": {},
   "outputs": [],
   "source": [
    "james_games = len(james_winnings) -1\n",
    "ken_games = len(ken_winnings) -1"
   ]
  },
  {
   "cell_type": "code",
   "execution_count": 63,
   "metadata": {},
   "outputs": [
    {
     "data": {
      "text/plain": [
       "1827.625"
      ]
     },
     "execution_count": 63,
     "metadata": {},
     "output_type": "execute_result"
    }
   ],
   "source": [
    "# How much more did James have to wager in previous games to have broken Ken's record?\n",
    "(ken_winnings.iloc[-2] - james_winnings.iloc[-2])/james_games"
   ]
  },
  {
   "cell_type": "code",
   "execution_count": 66,
   "metadata": {},
   "outputs": [
    {
     "name": "stdout",
     "output_type": "stream",
     "text": [
      "76944.25\n"
     ]
    },
    {
     "data": {
      "text/plain": [
       "32.760082787212816"
      ]
     },
     "execution_count": 66,
     "metadata": {},
     "output_type": "execute_result"
    }
   ],
   "source": [
    "# How many more games until he would have broken Ken's record? \n",
    "print((james_winnings.iloc[-2] / james_games))\n",
    "ken_winnings.iloc[-2]/(james_winnings.iloc[-2] / james_games)"
   ]
  },
  {
   "cell_type": "code",
   "execution_count": 73,
   "metadata": {},
   "outputs": [
    {
     "data": {
      "text/plain": [
       "24799"
      ]
     },
     "metadata": {},
     "output_type": "display_data"
    },
    {
     "data": {
      "text/plain": [
       "131127"
      ]
     },
     "metadata": {},
     "output_type": "display_data"
    },
    {
     "data": {
      "text/html": [
       "<div>\n",
       "<style scoped>\n",
       "    .dataframe tbody tr th:only-of-type {\n",
       "        vertical-align: middle;\n",
       "    }\n",
       "\n",
       "    .dataframe tbody tr th {\n",
       "        vertical-align: top;\n",
       "    }\n",
       "\n",
       "    .dataframe thead th {\n",
       "        text-align: right;\n",
       "    }\n",
       "</style>\n",
       "<table border=\"1\" class=\"dataframe\">\n",
       "  <thead>\n",
       "    <tr style=\"text-align: right;\">\n",
       "      <th></th>\n",
       "      <th>index</th>\n",
       "      <th>winnings</th>\n",
       "    </tr>\n",
       "  </thead>\n",
       "  <tbody>\n",
       "    <tr>\n",
       "      <th>count</th>\n",
       "      <td>33.00000</td>\n",
       "      <td>33.000000</td>\n",
       "    </tr>\n",
       "    <tr>\n",
       "      <th>mean</th>\n",
       "      <td>91.00000</td>\n",
       "      <td>75364.090909</td>\n",
       "    </tr>\n",
       "    <tr>\n",
       "      <th>std</th>\n",
       "      <td>9.66954</td>\n",
       "      <td>27305.851037</td>\n",
       "    </tr>\n",
       "    <tr>\n",
       "      <th>min</th>\n",
       "      <td>75.00000</td>\n",
       "      <td>24799.000000</td>\n",
       "    </tr>\n",
       "    <tr>\n",
       "      <th>25%</th>\n",
       "      <td>83.00000</td>\n",
       "      <td>54017.000000</td>\n",
       "    </tr>\n",
       "    <tr>\n",
       "      <th>50%</th>\n",
       "      <td>91.00000</td>\n",
       "      <td>74400.000000</td>\n",
       "    </tr>\n",
       "    <tr>\n",
       "      <th>75%</th>\n",
       "      <td>99.00000</td>\n",
       "      <td>90812.000000</td>\n",
       "    </tr>\n",
       "    <tr>\n",
       "      <th>max</th>\n",
       "      <td>107.00000</td>\n",
       "      <td>131127.000000</td>\n",
       "    </tr>\n",
       "  </tbody>\n",
       "</table>\n",
       "</div>"
      ],
      "text/plain": [
       "           index       winnings\n",
       "count   33.00000      33.000000\n",
       "mean    91.00000   75364.090909\n",
       "std      9.66954   27305.851037\n",
       "min     75.00000   24799.000000\n",
       "25%     83.00000   54017.000000\n",
       "50%     91.00000   74400.000000\n",
       "75%     99.00000   90812.000000\n",
       "max    107.00000  131127.000000"
      ]
     },
     "execution_count": 73,
     "metadata": {},
     "output_type": "execute_result"
    }
   ],
   "source": [
    "# What were the min/max James winnings?\n",
    "display(min(james_df['winnings']))\n",
    "display(max(james_df['winnings']))\n",
    "james_df.describe()"
   ]
  },
  {
   "cell_type": "code",
   "execution_count": 94,
   "metadata": {},
   "outputs": [
    {
     "data": {
      "image/png": "[encoded data removed]",
      "text/plain": [
       "<Figure size 864x576 with 1 Axes>"
      ]
     },
     "metadata": {},
     "output_type": "display_data"
    }
   ],
   "source": [
    "fig, ax = plt.subplots(figsize=(12,8))\n",
    "plt.hist(james_df['winnings'], alpha=.5, color='r', bins=range(0,150000,10000), label='James Holzhauer');\n",
    "plt.hist(ken_df['winnings'], alpha=.5, color='b',bins=range(0,150000,10000), label='Ken Jennings');\n",
    "plt.legend();\n",
    "ax.xaxis.set_major_formatter(tick) ;"
   ]
  },
  {
   "cell_type": "markdown",
   "metadata": {},
   "source": [
    "James at least hit Ken's day max around 50% of the time"
   ]
  },
  {
   "cell_type": "code",
   "execution_count": null,
   "metadata": {},
   "outputs": [],
   "source": []
  }
 ],
 "metadata": {
  "kernelspec": {
   "display_name": "Python 3",
   "language": "python",
   "name": "python3"
  },
  "language_info": {
   "codemirror_mode": {
    "name": "ipython",
    "version": 3
   },
   "file_extension": ".py",
   "mimetype": "text/x-python",
   "name": "python",
   "nbconvert_exporter": "python",
   "pygments_lexer": "ipython3",
   "version": "3.7.3"
  }
 },
 "nbformat": 4,
 "nbformat_minor": 2
}
