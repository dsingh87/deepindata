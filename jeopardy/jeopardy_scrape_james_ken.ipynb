{
 "cells": [
  {
   "cell_type": "code",
   "execution_count": 19,
   "metadata": {},
   "outputs": [],
   "source": [
    "from bs4 import BeautifulSoup\n",
    "import pandas as pd\n",
    "import numpy as np\n",
    "import matplotlib.pyplot as plt\n",
    "import seaborn as sns\n",
    "import requests\n",
    "import re"
   ]
  },
  {
   "cell_type": "code",
   "execution_count": 20,
   "metadata": {},
   "outputs": [
    {
     "data": {
      "text/plain": [
       "'<!DOCTYPE html PUBLIC \"-//W3C//DTD XHTML 1.1//EN\" \"http://www.w3.org/TR/xhtml11/DTD/xhtml11.dtd\">\\n<html xml:lang=\"en\" xmlns=\"http://www.w3.org/1999/xhtml\">\\n <head>\\n  <title>\\n   J! Archive - Season list\\n  </title>\\n  <link href=\"http://www.j-archive.com/styles.css\" rel=\"styleSheet\" type=\"text/css\"/>\\n  <link href=\"http://www.j-archive.com/favicon.ico\" rel=\"shortcut icon\"/>\\n </head>\\n <body>\\n  <div id=\"navbar\">\\n   <span id=\"navbarlogo\">\\n    <a href=\"http://www.j-archive.com\">\\n     <img alt=\"J! Archive\" height=\"22\" src=\"http://www.j-archive.com/j-a.gif\" width=\"100\"/>\\n    </a>\\n   </span>\\n   <span id=\"navbartext\">\\n    <a href=\"http://www.j-archive.com/showseason.php?season=35\">\\n     [current season]\\n    </a>\\n    <a href=\"http://www.j-archive.com/showseason.php?season=34\">\\n     [last season]\\n    </a>\\n    <a href=\"http://www.j-archive.com/listseasons.php\">\\n     [all seasons]\\n    </a>\\n    <a href=\"http://www.j-archive.com/listprizes.php\">\\n     [prizes]\\n    </a>\\n    <a href=\"http://www.j-archive.com/wageringcalculator.php\">\\n     [wagering calculator]\\n    </a>\\n    <a href=\"http://www.j-archive.com/help.php\">\\n     [help]\\n    </a>\\n   </span>\\n   <form accept-charset=\"utf-8\" action=\"http://www.j-archive.com/search.php\" enctype=\"x-www-form-encoded\" id=\"navbarsearch\" method=\"get\">\\n    <fieldset class=\"noborder\">\\n     <input class=\"search\" id=\"search\" maxlength=\"256\" name=\"search\" type=\"text\" value=\"\"/>\\n     <input class=\"search_button\" name=\"submit\" type=\"submit\" value=\"Search\"/>\\n    </fieldset>\\n   </form>\\n  </div>\\n  <div id=\"content\">\\n   <table>\\n    <tr>\\n     <td>\\n      <a href=\"showseason.php?season=35\">\\n       Season 35\\n      </a>\\n     </td>\\n     <td class=\"left_padded\">\\n      2018-09-10 to 2019-07-26\\n     </td>\\n     <td align=\"right\" class=\"left_padded\">\\n      (187 games archived)\\n     </td>\\n     <td align=\"right\" class=\"left_padded\">\\n     </td>\\n    </tr>\\n    <tr>\\n     <td>\\n      <a href=\"showseason.php?season=34\">\\n       Season 34\\n      </a>\\n     </td>\\n     <td class=\"left_padded\">\\n      2017-09-11 to 2018-07-27\\n     </td>\\n     <td align=\"right\" class=\"left_padded\">\\n      (230 games archived)\\n     </td>\\n     <td align=\"right\" class=\"left_padded\">\\n     </td>\\n    </tr>\\n    <tr>\\n     <td>\\n      <a href=\"showseason.php?season=33\">\\n       Season 33\\n      </a>\\n     </td>\\n     <td class=\"left_padded\">\\n      2016-09-12 to 2017-07-28\\n     </td>\\n     <td align=\"right\" class=\"left_padded\">\\n      (230 games archived)\\n     </td>\\n     <td align=\"right\" class=\"left_padded\">\\n     </td>\\n    </tr>\\n    <tr>\\n     <td>\\n      <a href=\"showseason.php?season=32\">\\n       Season 32\\n      </a>\\n     </td>\\n     <td class=\"left_padded\">\\n      2015-09-14 to 2016-07-29\\n     </td>\\n     <td align=\"right\" class=\"left_padded\">\\n      (230 games archived)\\n     </td>\\n     <td align=\"right\" class=\"left_padded\">\\n     </td>\\n    </tr>\\n    <tr>\\n     <td>\\n      <a href=\"showseason.php?season=31\">\\n       Season 31\\n      </a>\\n     </td>\\n     <td class=\"left_padded\">\\n      2014-09-15 to 2015-07-31\\n     </td>\\n     <td align=\"right\" class=\"left_padded\">\\n      (230 games archived)\\n     </td>\\n     <td align=\"right\" class=\"left_padded\">\\n     </td>\\n    </tr>\\n    <tr>\\n     <td>\\n      <a href=\"showseason.php?season=30\">\\n       Season 30\\n      </a>\\n     </td>\\n     <td class=\"left_padded\">\\n      2013-09-16 to 2014-08-01\\n     </td>\\n     <td align=\"right\" class=\"left_padded\">\\n      (230 games archived)\\n     </td>\\n     <td align=\"right\" class=\"left_padded\">\\n     </td>\\n    </tr>\\n    <tr>\\n     <td>\\n      <a href=\"showseason.php?season=29\">\\n       Season 29\\n      </a>\\n     </td>\\n     <td class=\"left_padded\">\\n      2012-09-17 to 2013-08-02\\n     </td>\\n     <td align=\"right\" class=\"left_padded\">\\n      (230 games archived)\\n     </td>\\n     <td align=\"right\" class=\"left_padded\">\\n     </td>\\n    </tr>\\n    <tr>\\n     <td>\\n      <a href=\"showseason.php?season=28\">\\n       Season 28\\n      </a>\\n     </td>\\n     <td class=\"left_padded\">\\n      2011-09-19 to 2012-08-03\\n     </td>\\n     <td align=\"right\" class=\"left_padded\">\\n      (230 games archived)\\n     </td>\\n     <td align=\"right\" class=\"left_padded\">\\n     </td>\\n    </tr>\\n    <tr>\\n     <td>\\n      <a href=\"showseason.php?season=27\">\\n       Season 27\\n      </a>\\n     </td>\\n     <td class=\"left_padded\">\\n      2010-09-13 to 2011-07-29\\n     </td>\\n     <td align=\"right\" class=\"left_padded\">\\n      (230 games archived)\\n     </td>\\n     <td align=\"right\" class=\"left_padded\">\\n     </td>\\n    </tr>\\n    <tr>\\n     <td>\\n      <a href=\"showseason.php?season=26\">\\n       Season 26\\n      </a>\\n     </td>\\n     <td class=\"left_padded\">\\n      2009-09-14 to 2010-07-30\\n     </td>\\n     <td align=\"right\" class=\"left_padded\">\\n      (230 games archived)\\n     </td>\\n     <td align=\"right\" class=\"left_padded\">\\n     </td>\\n    </tr>\\n    <tr>\\n     <td>\\n      <a href=\"showseason.php?season=25\">\\n       Season 25\\n      </a>\\n     </td>\\n     <td class=\"left_padded\">\\n      2008-09-08 to 2009-07-24\\n     </td>\\n     <td align=\"right\" class=\"left_padded\">\\n      (230 games archived)\\n     </td>\\n     <td align=\"right\" class=\"left_padded\">\\n     </td>\\n    </tr>\\n    <tr>\\n     <td>\\n      <a href=\"showseason.php?season=24\">\\n       Season 24\\n      </a>\\n     </td>\\n     <td class=\"left_padded\">\\n      2007-09-10 to 2008-07-25\\n     </td>\\n     <td align=\"right\" class=\"left_padded\">\\n      (230 games archived)\\n     </td>\\n     <td align=\"right\" class=\"left_padded\">\\n     </td>\\n    </tr>\\n    <tr>\\n     <td>\\n      <a href=\"showseason.php?season=23\">\\n       Season 23\\n      </a>\\n     </td>\\n     <td class=\"left_padded\">\\n      2006-09-11 to 2007-07-27\\n     </td>\\n     <td align=\"right\" class=\"left_padded\">\\n      (230 games archived)\\n     </td>\\n     <td align=\"right\" class=\"left_padded\">\\n     </td>\\n    </tr>\\n    <tr>\\n     <td>\\n      <a href=\"showseason.php?season=22\">\\n       Season 22\\n      </a>\\n     </td>\\n     <td class=\"left_padded\">\\n      2005-09-12 to 2006-07-28\\n     </td>\\n     <td align=\"right\" class=\"left_padded\">\\n      (230 games archived)\\n     </td>\\n     <td align=\"right\" class=\"left_padded\">\\n     </td>\\n    </tr>\\n    <tr>\\n     <td>\\n      <a href=\"showseason.php?season=21\">\\n       Season 21\\n      </a>\\n     </td>\\n     <td class=\"left_padded\">\\n      2004-09-06 to 2005-07-22\\n     </td>\\n     <td align=\"right\" class=\"left_padded\">\\n      (230 games archived)\\n     </td>\\n     <td align=\"right\" class=\"left_padded\">\\n     </td>\\n    </tr>\\n    <tr>\\n     <td>\\n      <a href=\"showseason.php?season=20\">\\n       Season 20\\n      </a>\\n     </td>\\n     <td class=\"left_padded\">\\n      2003-09-08 to 2004-07-23\\n     </td>\\n     <td align=\"right\" class=\"left_padded\">\\n      (230 games archived)\\n     </td>\\n     <td align=\"right\" class=\"left_padded\">\\n     </td>\\n    </tr>\\n    <tr>\\n     <td>\\n      <a href=\"showseason.php?season=19\">\\n       Season 19\\n      </a>\\n     </td>\\n     <td class=\"left_padded\">\\n      2002-09-02 to 2003-07-18\\n     </td>\\n     <td align=\"right\" class=\"left_padded\">\\n      (228 games archived)\\n     </td>\\n     <td align=\"right\" class=\"left_padded\">\\n     </td>\\n    </tr>\\n    <tr>\\n     <td>\\n      <a href=\"showseason.php?season=18\">\\n       Season 18\\n      </a>\\n     </td>\\n     <td class=\"left_padded\">\\n      2001-09-03 to 2002-07-19\\n     </td>\\n     <td align=\"right\" class=\"left_padded\">\\n      (229 games archived)\\n     </td>\\n     <td align=\"right\" class=\"left_padded\">\\n     </td>\\n    </tr>\\n    <tr>\\n     <td>\\n      <a href=\"showseason.php?season=17\">\\n       Season 17\\n      </a>\\n     </td>\\n     <td class=\"left_padded\">\\n      2000-09-04 to 2001-07-20\\n     </td>\\n     <td align=\"right\" class=\"left_padded\">\\n      (230 games archived)\\n     </td>\\n     <td align=\"right\" class=\"left_padded\">\\n     </td>\\n    </tr>\\n    <tr>\\n     <td>\\n      <a href=\"showseason.php?season=16\">\\n       Season 16\\n      </a>\\n     </td>\\n     <td class=\"left_padded\">\\n      1999-09-06 to 2000-07-21\\n     </td>\\n     <td align=\"right\" class=\"left_padded\">\\n      (230 games archived)\\n     </td>\\n     <td align=\"right\" class=\"left_padded\">\\n     </td>\\n    </tr>\\n    <tr>\\n     <td>\\n      <a href=\"showseason.php?season=15\">\\n       Season 15\\n      </a>\\n     </td>\\n     <td class=\"left_padded\">\\n      1998-09-07 to 1999-07-23\\n     </td>\\n     <td align=\"right\" class=\"left_padded\">\\n      (228 games archived)\\n     </td>\\n     <td align=\"right\" class=\"left_padded\">\\n     </td>\\n    </tr>\\n    <tr>\\n     <td>\\n      <a href=\"showseason.php?season=14\">\\n       Season 14\\n      </a>\\n     </td>\\n     <td class=\"left_padded\">\\n      1997-09-01 to 1998-07-17\\n     </td>\\n     <td align=\"right\" class=\"left_padded\">\\n      (229 games archived)\\n     </td>\\n     <td align=\"right\" class=\"left_padded\">\\n     </td>\\n    </tr>\\n    <tr>\\n     <td>\\n      <a href=\"showseason.php?season=13\">\\n       Season 13\\n      </a>\\n     </td>\\n     <td class=\"left_padded\">\\n      1996-09-02 to 1997-07-18\\n     </td>\\n     <td align=\"right\" class=\"left_padded\">\\n      (208 games archived)\\n     </td>\\n     <td align=\"right\" class=\"left_padded\">\\n     </td>\\n    </tr>\\n    <tr>\\n     <td>\\n      <a href=\"showseason.php?season=12\">\\n       Season 12\\n      </a>\\n     </td>\\n     <td class=\"left_padded\">\\n      1995-09-04 to 1996-07-19\\n     </td>\\n     <td align=\"right\" class=\"left_padded\">\\n      (105 games archived)\\n     </td>\\n     <td align=\"right\" class=\"left_padded\">\\n     </td>\\n    </tr>\\n    <tr>\\n     <td>\\n      <a href=\"showseason.php?season=11\">\\n       Season 11\\n      </a>\\n     </td>\\n     <td class=\"left_padded\">\\n      1994-09-05 to 1995-07-21\\n     </td>\\n     <td align=\"right\" class=\"left_padded\">\\n      (51 games archived)\\n     </td>\\n     <td align=\"right\" class=\"left_padded\">\\n     </td>\\n    </tr>\\n    <tr>\\n     <td>\\n      <a href=\"showseason.php?season=10\">\\n       Season 10\\n      </a>\\n     </td>\\n     <td class=\"left_padded\">\\n      1993-09-06 to 1994-07-22\\n     </td>\\n     <td align=\"right\" class=\"left_padded\">\\n      (54 games archived)\\n     </td>\\n     <td align=\"right\" class=\"left_padded\">\\n     </td>\\n    </tr>\\n    <tr>\\n     <td>\\n      <a href=\"showseason.php?season=9\">\\n       Season 9\\n      </a>\\n     </td>\\n     <td class=\"left_padded\">\\n      1992-09-07 to 1993-07-23\\n     </td>\\n     <td align=\"right\" class=\"left_padded\">\\n      (76 games archived)\\n     </td>\\n     <td align=\"right\" class=\"left_padded\">\\n     </td>\\n    </tr>\\n    <tr>\\n     <td>\\n      <a href=\"showseason.php?season=8\">\\n       Season 8\\n      </a>\\n     </td>\\n     <td class=\"left_padded\">\\n      1991-09-02 to 1992-07-17\\n     </td>\\n     <td align=\"right\" class=\"left_padded\">\\n      (70 games archived)\\n     </td>\\n     <td align=\"right\" class=\"left_padded\">\\n     </td>\\n    </tr>\\n    <tr>\\n     <td>\\n      <a href=\"showseason.php?season=7\">\\n       Season 7\\n      </a>\\n     </td>\\n     <td class=\"left_padded\">\\n      1990-09-03 to 1991-07-19\\n     </td>\\n     <td align=\"right\" class=\"left_padded\">\\n      (60 games archived)\\n     </td>\\n     <td align=\"right\" class=\"left_padded\">\\n     </td>\\n    </tr>\\n    <tr>\\n     <td>\\n      <a href=\"showseason.php?season=superjeopardy\">\\n       <i>\\n        Super Jeopardy!\\n       </i>\\n      </a>\\n     </td>\\n     <td class=\"left_padded\">\\n      1990-06-16 to 1990-09-08\\n     </td>\\n     <td align=\"right\" class=\"left_padded\">\\n      (13 games archived)\\n     </td>\\n    </tr>\\n    <tr>\\n     <td>\\n      <a href=\"showseason.php?season=6\">\\n       Season 6\\n      </a>\\n     </td>\\n     <td class=\"left_padded\">\\n      1989-09-04 to 1990-07-20\\n     </td>\\n     <td align=\"right\" class=\"left_padded\">\\n      (152 games archived)\\n     </td>\\n     <td align=\"right\" class=\"left_padded\">\\n     </td>\\n    </tr>\\n    <tr>\\n     <td>\\n      <a href=\"showseason.php?season=5\">\\n       Season 5\\n      </a>\\n     </td>\\n     <td class=\"left_padded\">\\n      1988-09-05 to 1989-07-21\\n     </td>\\n     <td align=\"right\" class=\"left_padded\">\\n      (133 games archived)\\n     </td>\\n     <td align=\"right\" class=\"left_padded\">\\n     </td>\\n    </tr>\\n    <tr>\\n     <td>\\n      <a href=\"showseason.php?season=4\">\\n       Season 4\\n      </a>\\n     </td>\\n     <td class=\"left_padded\">\\n      1987-09-07 to 1988-07-22\\n     </td>\\n     <td align=\"right\" class=\"left_padded\">\\n      (150 games archived)\\n     </td>\\n     <td align=\"right\" class=\"left_padded\">\\n     </td>\\n    </tr>\\n    <tr>\\n     <td>\\n      <a href=\"showseason.php?season=3\">\\n       Season 3\\n      </a>\\n     </td>\\n     <td class=\"left_padded\">\\n      1986-09-08 to 1987-07-24\\n     </td>\\n     <td align=\"right\" class=\"left_padded\">\\n      (113 games archived)\\n     </td>\\n     <td align=\"right\" class=\"left_padded\">\\n     </td>\\n    </tr>\\n    <tr>\\n     <td>\\n      <a href=\"showseason.php?season=2\">\\n       Season 2\\n      </a>\\n     </td>\\n     <td class=\"left_padded\">\\n      1985-09-09 to 1986-06-06\\n     </td>\\n     <td align=\"right\" class=\"left_padded\">\\n      (57 games archived)\\n     </td>\\n     <td align=\"right\" class=\"left_padded\">\\n     </td>\\n    </tr>\\n    <tr>\\n     <td>\\n      <a href=\"showseason.php?season=1\">\\n       Season 1\\n      </a>\\n     </td>\\n     <td class=\"left_padded\">\\n      1984-09-10 to 1985-06-07\\n     </td>\\n     <td align=\"right\" class=\"left_padded\">\\n      (42 games archived)\\n     </td>\\n     <td align=\"right\" class=\"left_padded\">\\n     </td>\\n    </tr>\\n    <tr>\\n     <td>\\n      <a href=\"showseason.php?season=trebekpilots\">\\n       Trebek pilots\\n      </a>\\n     </td>\\n     <td class=\"left_padded\">\\n      1983-09-18 and 1984?\\n     </td>\\n     <td align=\"right\" class=\"left_padded\">\\n      (2 games archived)\\n     </td>\\n    </tr>\\n   </table>\\n   <!-- <p>For a complete archive of Season 20, see <a href=\"http://tdciago.110mb.com/jeoparchive/\" rel=\"external\">Ronnie O\\'Rourke\\'s JEOPARCHIVE!</a></p> -->\\n  </div>\\n  <div id=\"disclaimer\">\\n   The J! Archive is created by fans, for fans.  The\\n   <i>\\n    <a href=\"http://www.jeopardy.com\">\\n     Jeopardy!\\n    </a>\\n   </i>\\n   game show and all elements thereof, including but not limited to copyright and trademark thereto, are the property of Jeopardy Productions, Inc. and are protected under law.  This website is not affiliated with, sponsored by, or operated by Jeopardy Productions, Inc.  Join the discussion at\\n   <a href=\"http://jboard.tv\">\\n    JBoard.tv\\n   </a>\\n   .\\n  </div>\\n  <script src=\"http://www.google-analytics.com/urchin.js\" type=\"text/javascript\">\\n  </script>\\n  <script src=\"http://www.j-archive.com/scripts.js\" type=\"text/javascript\">\\n  </script>\\n </body>\\n</html>'"
      ]
     },
     "execution_count": 20,
     "metadata": {},
     "output_type": "execute_result"
    }
   ],
   "source": [
    "url = 'https://www.j-archive.com/listseasons.php'\n",
    "r = requests.get(url)\n",
    "soup = BeautifulSoup(r.content)\n",
    "soup.prettify()"
   ]
  },
  {
   "cell_type": "code",
   "execution_count": 21,
   "metadata": {
    "scrolled": true
   },
   "outputs": [
    {
     "data": {
      "text/plain": [
       "['showseason.php?season=35',\n",
       " 'showseason.php?season=34',\n",
       " 'showseason.php?season=33',\n",
       " 'showseason.php?season=32',\n",
       " 'showseason.php?season=31',\n",
       " 'showseason.php?season=30',\n",
       " 'showseason.php?season=29',\n",
       " 'showseason.php?season=28',\n",
       " 'showseason.php?season=27',\n",
       " 'showseason.php?season=26',\n",
       " 'showseason.php?season=25',\n",
       " 'showseason.php?season=24',\n",
       " 'showseason.php?season=23',\n",
       " 'showseason.php?season=22',\n",
       " 'showseason.php?season=21',\n",
       " 'showseason.php?season=20',\n",
       " 'showseason.php?season=19',\n",
       " 'showseason.php?season=18',\n",
       " 'showseason.php?season=17',\n",
       " 'showseason.php?season=16',\n",
       " 'showseason.php?season=15',\n",
       " 'showseason.php?season=14',\n",
       " 'showseason.php?season=13',\n",
       " 'showseason.php?season=12',\n",
       " 'showseason.php?season=11',\n",
       " 'showseason.php?season=10',\n",
       " 'showseason.php?season=9',\n",
       " 'showseason.php?season=8',\n",
       " 'showseason.php?season=7',\n",
       " 'showseason.php?season=superjeopardy',\n",
       " 'showseason.php?season=6',\n",
       " 'showseason.php?season=5',\n",
       " 'showseason.php?season=4',\n",
       " 'showseason.php?season=3',\n",
       " 'showseason.php?season=2',\n",
       " 'showseason.php?season=1',\n",
       " 'showseason.php?season=trebekpilots']"
      ]
     },
     "execution_count": 21,
     "metadata": {},
     "output_type": "execute_result"
    }
   ],
   "source": [
    "# Get links for seasons\n",
    "season_links = []\n",
    "for link in soup.find_all('a'):\n",
    "#     print(link.get('href'))\n",
    "    if 'http' not in link.get('href'):\n",
    "        season_links.append(link.get('href'))\n",
    "season_links"
   ]
  },
  {
   "cell_type": "code",
   "execution_count": 43,
   "metadata": {
    "scrolled": true
   },
   "outputs": [],
   "source": [
    "# season_url = 'https://www.j-archive.com/' + season_links[0]\n",
    "# print(season_url)\n",
    "relevant_seasons = []\n",
    "for i in season_links:\n",
    "    season_url = 'https://www.j-archive.com/' + i\n",
    "    r=requests.get(season_url)\n",
    "    soup = BeautifulSoup(r.content)\n",
    "    soup.prettify()\n",
    "    for contestants in soup.find_all('td', {'valign': 'top'}):\n",
    "        if 'Ken Jennings' in contestants.text or 'James Holzhauer' in contestants.text:\n",
    "            relevant_seasons.append(i)\n",
    "relevant_seasons = set(relevant_seasons)"
   ]
  },
  {
   "cell_type": "code",
   "execution_count": 83,
   "metadata": {},
   "outputs": [],
   "source": [
    "relevant_seasons\n",
    "# For now just take season games\n",
    "relevant_seasons = ['showseason.php?season=20', 'showseason.php?season=21','showseason.php?season=35']"
   ]
  },
  {
   "cell_type": "code",
   "execution_count": 133,
   "metadata": {
    "scrolled": true
   },
   "outputs": [
    {
     "data": {
      "text/plain": [
       "104"
      ]
     },
     "execution_count": 133,
     "metadata": {},
     "output_type": "execute_result"
    }
   ],
   "source": [
    "relevant_episodes = []\n",
    "for i in relevant_seasons:\n",
    "    contestant_index = []\n",
    "    season_url = 'https://www.j-archive.com/' + i\n",
    "    r=requests.get(season_url)\n",
    "    soup = BeautifulSoup(r.content)\n",
    "    soup.prettify()\n",
    "    for num, td in enumerate(soup.find_all('td', {'valign': 'top'})):\n",
    "        if ('Ken Jennings game' in td.text) or ('James Holzhauer game' in td.text):\n",
    "#         if ('James Holzhauer game' in td.text):\n",
    "            contestant_index.append(num)\n",
    "    link_index = [x - 2 for x in contestant_index]  \n",
    "    for num, contestants in enumerate(soup.find_all('td', {'valign': 'top'})):\n",
    "        if num in link_index:\n",
    "            relevant_episodes.append(contestants.find('a').get('href'))\n"
   ]
  },
  {
   "cell_type": "code",
   "execution_count": null,
   "metadata": {},
   "outputs": [
    {
     "name": "stdout",
     "output_type": "stream",
     "text": [
      "http://www.j-archive.com/showgame.php?game_id=920\n",
      "{'Ken': '$75,000', 'Sarah': '$1,200', 'Kristine': '$1,800'}\n",
      "http://www.j-archive.com/showgame.php?game_id=2732\n",
      "{'Ken': '$52,000', 'Michael': '$4,001', 'Denele': '$1,200'}\n",
      "http://www.j-archive.com/showgame.php?game_id=2731\n",
      "{'Ken': '$30,000', 'Liese': '$0', 'Art': '$8,800'}\n",
      "http://www.j-archive.com/showgame.php?game_id=2730\n",
      "{'Ken': '$29,200', 'Christopher': '$6,399', 'Susan': '$200'}\n",
      "http://www.j-archive.com/showgame.php?game_id=2729\n",
      "{'Ken': '$35,000', 'Beverly': '$6,800', 'Tim': '$7,900'}\n",
      "http://www.j-archive.com/showgame.php?game_id=2485\n"
     ]
    }
   ],
   "source": [
    "# Download HTML for an individual show to test code on\n",
    "episode_dict = {}\n",
    "count = 1\n",
    "for num, show_url in enumerate(relevant_episodes):\n",
    "    print(show_url)\n",
    "    player_score_dict = {}\n",
    "    r=requests.get(show_url)\n",
    "    soup = BeautifulSoup(r.content)\n",
    "    contestant_names = []\n",
    "    for i in soup.find_all(class_ = 'score_player_nickname'):\n",
    "        contestant_names.append(i.text)\n",
    "    contestant_names = contestant_names[:3]\n",
    "    contestant_scores = []\n",
    "    try: \n",
    "        contestant_scores.append(soup.find('h3', text = 'Final scores:').find_next(class_='score_positive').text)\n",
    "        contestant_scores.append(soup.find('h3', text = 'Final scores:').find_next(class_='score_positive').find_next(class_='score_positive').text)\n",
    "        contestant_scores.append(soup.find('h3', text = 'Final scores:').find_next(class_='score_positive').find_next(class_='score_positive').find_next(class_='score_positive').text)\n",
    "    except:\n",
    "        pass\n",
    "    results_dict = dict(zip(contestant_names, contestant_scores))\n",
    "    episode_dict[count] = results_dict\n",
    "    print(results_dict)\n",
    "    count+= 1\n",
    "\n",
    "\n",
    "\n",
    "\n",
    "\n"
   ]
  },
  {
   "cell_type": "code",
   "execution_count": null,
   "metadata": {},
   "outputs": [],
   "source": []
  }
 ],
 "metadata": {
  "kernelspec": {
   "display_name": "Python 3",
   "language": "python",
   "name": "python3"
  },
  "language_info": {
   "codemirror_mode": {
    "name": "ipython",
    "version": 3
   },
   "file_extension": ".py",
   "mimetype": "text/x-python",
   "name": "python",
   "nbconvert_exporter": "python",
   "pygments_lexer": "ipython3",
   "version": "3.7.3"
  }
 },
 "nbformat": 4,
 "nbformat_minor": 2
}
