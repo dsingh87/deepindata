{
 "cells": [
  {
   "cell_type": "code",
   "execution_count": 1,
   "metadata": {},
   "outputs": [],
   "source": [
    "import pandas as pd\n",
    "import numpy as np\n",
    "import matplotlib.pyplot as plt\n",
    "import seaborn as sns"
   ]
  },
  {
   "cell_type": "code",
   "execution_count": 22,
   "metadata": {},
   "outputs": [
    {
     "data": {
      "text/plain": [
       "3095                                    Looking at it now\n",
       "3096                               It all seems so simple\n",
       "3097                          We were lying on your couch\n",
       "3098                                           I remember\n",
       "3099                            You took a Polaroid of us\n",
       "3100                    Then discovered (then discovered)\n",
       "3101            The rest of the world was black and white\n",
       "3102                       But we were in screaming color\n",
       "3103                             And I remember thinking\n",
       "\n",
       "3104    Are we out of the woods yet? Are we out of the...\n",
       "3105    Are we out of the woods yet? Are we out of the...\n",
       "3106    Are we in the clear yet? Are we in the clear yet?\n",
       "3107      Are we in the clear yet? In the clear yet? Good\n",
       "3108    Are we out of the woods yet? Are we out of the...\n",
       "3109    Are we out of the woods yet? Are we out of the...\n",
       "3110    Are we in the clear yet? Are we in the clear yet?\n",
       "3111      Are we in the clear yet? In the clear yet? Good\n",
       "3112                           (Are we out of the woods?)\n",
       "3113                                    Looking at it now\n",
       "3114                        Last December (last December)\n",
       "3115                          We were built to fall apart\n",
       "3116              Then fall back together (back together)\n",
       "3117                   Your necklace hanging from my neck\n",
       "3118                   The night we couldn't quite forget\n",
       "3119                          When we decided, we decided\n",
       "3120              To move the furniture so we could dance\n",
       "3121                         Baby, like we stood a chance\n",
       "3122           Two paper airplanes flying, flying, flying\n",
       "3123                             And I remember thinking\n",
       "\n",
       "3124    Are we out of the woods yet? Are we out of the...\n",
       "                              ...                        \n",
       "3135             When you started crying, baby, I did too\n",
       "3136           When the sun came up, I was looking at you\n",
       "3137            Remember when you couldn't take the heat?\n",
       "3138           I walked out and said I'm setting you free\n",
       "3139         But the monsters turned out to be just trees\n",
       "3140         When the sun came up, you were looking at me\n",
       "3141                          You were looking at me, ooh\n",
       "3142                               You were looking at me\n",
       "3143    (Are we out of the woods yet? Are we out of th...\n",
       "3144    (Are we out of the woods yet? Are we out of th...\n",
       "3145                                           I remember\n",
       "3146    (Are we in the clear yet? Are we in the clear ...\n",
       "3147    (Are we in the clear yet? In the clear yet? Good)\n",
       "3148                                      Oh, I remember!\n",
       "3149    Are we out of the woods yet? Are we out of the...\n",
       "3150    Are we out of the woods yet? Are we out of the...\n",
       "3151    Are we in the clear yet? Are we in the clear yet?\n",
       "3152      Are we in the clear yet? In the clear yet? Good\n",
       "3153    Are we out of the woods yet? Are we out of the...\n",
       "3154    Are we out of the woods yet? Are we out of the...\n",
       "3155    Are we in the clear yet? Are we in the clear yet?\n",
       "3156      Are we in the clear yet? In the clear yet? Good\n",
       "3157    Are we out of the woods yet? Are we out of the...\n",
       "3158    Are we out of the woods yet? Are we out of the...\n",
       "3159    Are we in the clear yet? Are we in the clear yet?\n",
       "3160      Are we in the clear yet? In the clear yet? Good\n",
       "3161    Are we out of the woods yet? Are we out of the...\n",
       "3162    Are we out of the woods yet? Are we out of the...\n",
       "3163    Are we in the clear yet? Are we in the clear yet?\n",
       "3164      Are we in the clear yet? In the clear yet? Good\n",
       "Name: lyric, Length: 70, dtype: object"
      ]
     },
     "execution_count": 22,
     "metadata": {},
     "output_type": "execute_result"
    }
   ],
   "source": [
    "lyrics_df = pd.read_csv('taylor_swift_lyrics.csv', encoding= \"ISO-8859-1\")\n",
    "lyrics_df[lyrics_df['track_title'] == \"Out of the Woods\"].loc[:,'lyric']"
   ]
  },
  {
   "cell_type": "code",
   "execution_count": null,
   "metadata": {},
   "outputs": [],
   "source": []
  }
 ],
 "metadata": {
  "kernelspec": {
   "display_name": "Python 3",
   "language": "python",
   "name": "python3"
  },
  "language_info": {
   "codemirror_mode": {
    "name": "ipython",
    "version": 3
   },
   "file_extension": ".py",
   "mimetype": "text/x-python",
   "name": "python",
   "nbconvert_exporter": "python",
   "pygments_lexer": "ipython3",
   "version": "3.7.3"
  }
 },
 "nbformat": 4,
 "nbformat_minor": 2
}
