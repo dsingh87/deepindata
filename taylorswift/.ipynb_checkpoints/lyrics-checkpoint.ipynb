{
 "cells": [
  {
   "cell_type": "code",
   "execution_count": 1,
   "metadata": {},
   "outputs": [],
   "source": [
    "# Import packages, load Genius API token from local .env file\n",
    "import os\n",
    "import requests\n",
    "import json\n",
    "%load_ext dotenv\n",
    "%dotenv"
   ]
  },
  {
   "cell_type": "code",
   "execution_count": 2,
   "metadata": {},
   "outputs": [],
   "source": [
    "# Set parameters to call API\n",
    "genius_token=os.getenv(\"GENIUS_TOKEN\")\n",
    "base_url = \"http://api.genius.com\"\n",
    "value = 'Bearer ' + genius_token\n",
    "headers= {'Authorization': value}"
   ]
  },
  {
   "cell_type": "code",
   "execution_count": null,
   "metadata": {
    "scrolled": true
   },
   "outputs": [],
   "source": [
    "search_url = base_url + \"/search\"\n",
    "artist_name = \"Taylor Swift\"\n",
    "params = {'q': artist_name}\n",
    "response = requests.get(search_url, params = params, headers=headers)\n",
    "response_data = response.json()\n",
    "response_data"
   ]
  },
  {
   "cell_type": "markdown",
   "metadata": {},
   "source": [
    "This would be similar to typing in \"Taylor Swift\" into the search bar on Genius. What's the top hit that shows up? "
   ]
  },
  {
   "cell_type": "code",
   "execution_count": null,
   "metadata": {},
   "outputs": [],
   "source": [
    "response_data['response']['hits'][0]"
   ]
  },
  {
   "cell_type": "markdown",
   "metadata": {},
   "source": [
    "Looks like it's \"Look What You Made Me Do\". Assuming the top hit will show the correct artist (which, in this case, is a good assumption), grab the artist ID from this top hit so we can get all of Taylor Swift's songs. "
   ]
  },
  {
   "cell_type": "code",
   "execution_count": null,
   "metadata": {},
   "outputs": [],
   "source": [
    "taylor_swift_id = response_data['response']['hits'][0]['result']['primary_artist']['id']\n",
    "artist_songs_url = base_url + '/artists/' + str(taylor_swift_id) + '/songs'\n",
    "params={'sort': 'title',\n",
    "       'per_page': 50} # results per page can only be a max of 50\n",
    "response = requests.get(artist_songs_url, params = params, headers=headers)\n",
    "response.json()"
   ]
  },
  {
   "cell_type": "markdown",
   "metadata": {},
   "source": [
    "Taylor Swift has a ton of songs (more than 50), so need to create a loop to go through all the pages. We'll know we got to the last page if 'next_page' = None in the JSON blob"
   ]
  },
  {
   "cell_type": "code",
   "execution_count": null,
   "metadata": {},
   "outputs": [],
   "source": [
    "# album = 'reputation'\n",
    "song_title = []\n",
    "song_url = []\n",
    "page = 1\n",
    "next_page = 1\n",
    "while next_page != None:\n",
    "    params={'sort': 'title',\n",
    "            'per_page': 50,\n",
    "            'page': page} \n",
    "    response = requests.get(artist_songs_url, params=params, headers=headers)\n",
    "    response_data = response.json()\n",
    "    next_page=response_data['response']['next_page']\n",
    "    page += 1 # Will keep going until there aren't any more pages\n",
    "    for i in response_data['response']['songs']:\n",
    "        if i['primary_artist']['id'] == taylor_swift_id: # Only include songs by Taylor Swift\n",
    "            print(i['title'] + \" \" + i['url'])"
   ]
  },
  {
   "cell_type": "markdown",
   "metadata": {},
   "source": [
    "She has SO MANY things that show up through the Genius API (covers / interviews / setlists / IG posts / etc). Trying to figure out how to narrow down the list to just those on her 6 albums, but there isn't anything in the metadata that has album name for each of these songs. One way is to scrape the lyrics page for every single record that shows up above, but that will take forever, and still might not give good results because she performs a lot of covers on tour. \n",
    "\n",
    "Maybe we can use the Spotify API to get a list of the tracks on an album, and all we would have to input is the album names we care about? "
   ]
  },
  {
   "cell_type": "markdown",
   "metadata": {},
   "source": [
    "# Spotify"
   ]
  },
  {
   "cell_type": "code",
   "execution_count": 62,
   "metadata": {},
   "outputs": [],
   "source": [
    "import sys\n",
    "import spotipy\n",
    "import spotipy.util as util\n",
    "import spotipy.oauth2 as oauth2\n",
    "\n",
    "spotify_client_id = os.getenv(\"SPOTIFY_CLIENT_ID\")\n",
    "spotify_secret_id = os.getenv(\"SPOTIFY_CLIENT_SECRET\")\n",
    "\n",
    "client_credentials=oauth2.SpotifyClientCredentials(client_id=spotify_client_id,client_secret=spotify_secret_id)\n",
    "sp = spotipy.Spotify(client_credentials_manager=client_credentials)"
   ]
  },
  {
   "cell_type": "code",
   "execution_count": 84,
   "metadata": {},
   "outputs": [
    {
     "name": "stdout",
     "output_type": "stream",
     "text": [
      "reputation\n",
      "reputation Stadium Tour Surprise Song Playlist\n",
      "reputation (Big Machine Radio Release Special)\n",
      "Taylor Swift Karaoke: 1989 (Deluxe)\n",
      "1989\n",
      "Taylor Swift Karaoke: 1989 (Deluxe Edition)\n",
      "Taylor Swift Karaoke: 1989\n",
      "1989 (Deluxe)\n",
      "1989 (Deluxe Edition)\n",
      "1989 (Big Machine Radio Release Special)\n",
      "Red (Deluxe Edition)\n",
      "Red\n",
      "Red (Karaoke Version)\n",
      "Taylor Swift Karaoke: Red\n",
      "Red (Big Machine Radio Release Special)\n",
      "Speak Now (Deluxe Edition)\n",
      "Speak Now\n",
      "Speak Now (US Version)\n",
      "Speak Now (Karaoke Version)\n",
      "Taylor Swift Karaoke: Speak Now\n",
      "Speak Now (Japanese Version)\n",
      "Speak Now World Tour Live\n",
      "Speak Now (Big Machine Radio Release Special)\n",
      "Speak Now (Deluxe Package)\n",
      "Fearless\n",
      "Fearless (International Version)\n",
      "Fearless (Karaoke Version)\n",
      "Fearless Karaoke\n",
      "Fearless (Platinum Edition)\n",
      "Fearless Platinum Edition\n",
      "Fearless (Big Machine Radio Release Special)\n",
      "Taylor Swift\n",
      "Taylor Swift Karaoke\n",
      "Taylor Swift (Big Machine Radio Release Special)\n"
     ]
    }
   ],
   "source": [
    "def get_artist(name):\n",
    "    results = sp.search(q='artist:' + name, type='artist')\n",
    "    items = results['artists']['items']\n",
    "    if len(items) > 0:\n",
    "        return items[0]\n",
    "    else:\n",
    "        return None\n",
    "    \n",
    "def show_album_tracks(album):\n",
    "    tracks = []\n",
    "    results = sp.album_tracks(album['id'])\n",
    "    tracks.extend(results['items'])\n",
    "    while results['next']:\n",
    "        results = sp.next(results)\n",
    "        tracks.extend(results['items'])\n",
    "    for track in tracks:\n",
    "        print('  ', track['name'])\n",
    "        print()\n",
    "        print(track)\n",
    "        \n",
    "def show_artist_albums(id):\n",
    "    albums = []\n",
    "    results = sp.artist_albums(artist['id'], album_type='album')\n",
    "    albums.extend(results['items'])\n",
    "    while results['next']:\n",
    "        results = sp.next(results)\n",
    "        albums.extend(results['items'])\n",
    "    unique = set()  # skip duplicate albums\n",
    "    for album in albums:\n",
    "        name = album['name']\n",
    "        if not name in unique:  \n",
    "            print(name)\n",
    "            unique.add(name)\n",
    "#             show_album_tracks(album)\n",
    "    return unique\n",
    "        \n",
    "        \n",
    "name = \"Taylor Swift\"\n",
    "artist = get_artist(name)\n",
    "all_albums = show_artist_albums(artist)"
   ]
  },
  {
   "cell_type": "markdown",
   "metadata": {},
   "source": [
    "Something will be manual, whether it's removing specific albums or just including the primary ones. Just going to manually select the albums I want instead of trying to write clever code."
   ]
  },
  {
   "cell_type": "code",
   "execution_count": 85,
   "metadata": {},
   "outputs": [
    {
     "name": "stdout",
     "output_type": "stream",
     "text": [
      "reputation\n",
      "Red\n",
      "Fearless\n",
      "Taylor Swift\n",
      "1989\n",
      "Speak Now\n"
     ]
    }
   ],
   "source": [
    "selected_albums = ['1989','reputation','Fearless','Taylor Swift','Red','Speak Now']\n",
    "for i in all_albums: \n",
    "    if i in selected_albums:\n",
    "        print(i)"
   ]
  },
  {
   "cell_type": "code",
   "execution_count": null,
   "metadata": {},
   "outputs": [],
   "source": []
  }
 ],
 "metadata": {
  "kernelspec": {
   "display_name": "Python 3",
   "language": "python",
   "name": "python3"
  },
  "language_info": {
   "codemirror_mode": {
    "name": "ipython",
    "version": 3
   },
   "file_extension": ".py",
   "mimetype": "text/x-python",
   "name": "python",
   "nbconvert_exporter": "python",
   "pygments_lexer": "ipython3",
   "version": "3.7.3"
  }
 },
 "nbformat": 4,
 "nbformat_minor": 2
}
